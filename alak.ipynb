{
  "nbformat": 4,
  "nbformat_minor": 0,
  "metadata": {
    "colab": {
      "provenance": []
    },
    "kernelspec": {
      "name": "python3",
      "display_name": "Python 3"
    },
    "language_info": {
      "name": "python"
    }
  },
  "cells": [
    {
      "cell_type": "code",
      "source": [
        "import matplotlib.pyplot as plt\n",
        "import numpy as np\n",
        "import tensorflow as tf"
      ],
      "metadata": {
        "id": "bWQTlT4YuEDH"
      },
      "execution_count": null,
      "outputs": []
    },
    {
      "cell_type": "code",
      "execution_count": null,
      "metadata": {
        "id": "PU9C42OnBDcC"
      },
      "outputs": [],
      "source": [
        "MAX_ROUNDS = 69\n",
        "BASE_BOARD_S = 'xxxxx____ooooo'\n",
        "\n",
        "class Alak:\n",
        "  def __init__(self, my_token, opp_token, home_team=True, verbose=False, file_name=None, pred_func=lambda x : np.full((x.shape[0],1), .5)):\n",
        "    self.player = Alak.Player(my_token, opp_token)\n",
        "    self.home_team = home_team\n",
        "    self.verbose = verbose\n",
        "    self.board_s = BASE_BOARD_S\n",
        "    self.round_ct = 0\n",
        "    self.pred_func = pred_func\n",
        "\n",
        "    self.record_results = file_name != None\n",
        "    self.file_name = file_name\n",
        "    self.round_data = np.empty((0, len(BASE_BOARD_S)), dtype=np.int8)\n",
        "    self.round_scores = np.empty((0), dtype=np.float32)\n",
        "\n",
        "\n",
        "  # handle switching from string to embedded np.array(ints)\n",
        "  class Player:\n",
        "    def __init__(self, my_token, opp_token):\n",
        "      self.my_token = my_token\n",
        "      self.opp_token = opp_token\n",
        "\n",
        "    def embed(self, board_in):\n",
        "      embedded = []\n",
        "      for c in board_in:\n",
        "        if c == self.my_token:\n",
        "          embedded.append(1)\n",
        "        elif c == '_':\n",
        "          embedded.append(0)\n",
        "        else:\n",
        "          embedded.append(-1)\n",
        "      return np.array(embedded)\n",
        "\n",
        "    def unembed(self, board_in):\n",
        "      unembed = \"\"\n",
        "      for c in board_in:\n",
        "        if c == 1:\n",
        "          unembed += self.my_token\n",
        "        elif c == 0:\n",
        "          unembed += '_'\n",
        "        else:\n",
        "          unembed += self.opp_token\n",
        "      return unembed\n",
        "\n",
        "  # check for kills, attacker first\n",
        "  def eval_board(self, board_in, is_my_move):\n",
        "    board = self.player.embed(board_in)\n",
        "    if not is_my_move:\n",
        "      board = board * -1\n",
        "    self.eval(board)\n",
        "    board = board * -1\n",
        "    self.eval(board)\n",
        "    if is_my_move:\n",
        "      board = board * -1\n",
        "    return self.player.unembed(board)\n",
        "\n",
        "  # recursive check for kills\n",
        "  def eval(self, board):\n",
        "    kill_start = -1\n",
        "    i = 0\n",
        "    while i < len(board):\n",
        "      if board[i] == 1:\n",
        "        if kill_start >= 0 and kill_start <= i - 2:\n",
        "          for j in range(kill_start+1, i):\n",
        "            board[j] = 0\n",
        "        kill_start = i\n",
        "      elif board[i] == 0:\n",
        "        kill_start = -1\n",
        "      i += 1\n",
        "\n",
        "  # apply a move like [ 0, 11 ] to the board state\n",
        "  def move_s(self, move_tuple):\n",
        "    board = list(self.board_s)\n",
        "    t = board[move_tuple[0]]\n",
        "    board[move_tuple[0]] = '_'\n",
        "    board[move_tuple[1]] = t\n",
        "    return ''.join(board)\n",
        "\n",
        "  # aggregate all possible moves player can make from current board state\n",
        "  def legal_moves(self):\n",
        "    board = self.player.embed(self.board_s)\n",
        "    ones = np.argwhere(board == 1)\n",
        "    spaces = np.repeat(np.argwhere(board == 0).T, ones.shape[0], axis=0)\n",
        "    ones = np.repeat(ones, spaces.shape[1])\n",
        "    return np.column_stack((ones, spaces.ravel()))\n",
        "\n",
        "  # aggregate and eval kills on all possible boards using all legal moves\n",
        "  def legal_boards(self, move_tuples):\n",
        "    boards = np.tile(self.player.embed(self.board_s), (move_tuples.shape[0], 1))\n",
        "    for i in range(move_tuples.shape[0]):\n",
        "      t = boards[i, move_tuples[i, 0]]\n",
        "      boards[i, move_tuples[i, 0]] = 0\n",
        "      boards[i, move_tuples[i, 1]] = t\n",
        "    return boards\n",
        "\n",
        "  # calc highest winrate board from all legal boards\n",
        "  def choose_move(self, boards):\n",
        "    wrs = self.pred_func(boards)\n",
        "    max_wrs = np.argwhere(wrs == np.max(wrs)).ravel()\n",
        "    return np.random.choice(max_wrs)\n",
        "\n",
        "  # verbose move print helper\n",
        "  def encode_move(self, move):\n",
        "    a = hex(move[0])[2:]\n",
        "    b = hex(move[1])[2:]\n",
        "    return '[ {:s} to {:s} ]'.format(a, b)\n",
        "\n",
        "  # calc moves, boards, win probabilities, make a move, clean board, check if game over\n",
        "  def make_move(self):\n",
        "    moves = self.legal_moves()\n",
        "    boards = self.legal_boards(moves)\n",
        "    move = self.choose_move(boards)\n",
        "    if self.verbose:\n",
        "      old_board = self.board_s\n",
        "      self.board_s = self.eval_board(self.move_s(moves[move]), is_my_move=True)\n",
        "      print('{:s} round {:<3d}:: move {:s}\\n  {:s}  ->  {:s}\\n'.format(self.player.my_token, self.round_ct, self.encode_move(moves[move]), old_board, self.board_s))\n",
        "    else:\n",
        "      self.board_s = self.eval_board(self.move_s(moves[move]), is_my_move=True)\n",
        "    if self.record_results:\n",
        "      self.round_data = np.vstack((self.round_data, self.player.embed(self.board_s)))\n",
        "    over = self.check_game()\n",
        "    self.round_ct += 1\n",
        "    if over >= 0:\n",
        "      return self.game_over(over)\n",
        "    else:\n",
        "      return self.board_s\n",
        "\n",
        "  # clean and apply board string input\n",
        "  def opps_move_s(self, board_in):\n",
        "    self.board_s = self.eval_board(board_in, is_my_move=False)\n",
        "    over = self.check_game()\n",
        "    if over >= 0:\n",
        "      self.game_over(over)\n",
        "\n",
        "  # clean and apply move pair input\n",
        "  def opps_move_a(self, move):\n",
        "    self.move_s(move)\n",
        "    self.board_s = self.eval_board(self.board_s, is_my_move=False)\n",
        "    over = self.check_game()\n",
        "    if over >= 0:\n",
        "      self.game_over(over)\n",
        "\n",
        "  # check for win con or draw\n",
        "  def check_game(self):\n",
        "    if self.round_ct >= MAX_ROUNDS:\n",
        "      self.round_ct = MAX_ROUNDS\n",
        "      return 0\n",
        "    elif self.board_s.count(self.player.my_token) < 2:\n",
        "      return 0\n",
        "    elif self.board_s.count(self.player.opp_token) < 2:\n",
        "      return 1\n",
        "    return -1\n",
        "\n",
        "  # end game, update dataset\n",
        "  def game_over(self, winner):\n",
        "    if winner >= 0:\n",
        "      if winner == 1:\n",
        "        s = 'You won\\n{:s}'.format(self.board_s)\n",
        "      else:\n",
        "        s = 'Opponent won\\n{:s}'.format(self.board_s)\n",
        "      if self.record_results:\n",
        "        if winner > 0:\n",
        "          self.round_scores = np.hstack((self.round_scores, np.full((self.round_ct), score_curve(self.round_ct), dtype=np.float32)))\n",
        "        else:\n",
        "          self.round_scores = np.hstack((self.round_scores, np.zeros((self.round_ct), dtype=np.float32)))\n",
        "      self.reset()\n",
        "      return s\n",
        "\n",
        "  # reset state\n",
        "  def reset(self):\n",
        "    self.board_s = BASE_BOARD_S\n",
        "    self.round_ct = 0\n",
        "\n",
        "  # write datasets to files\n",
        "  def dump(self):\n",
        "    if not self.record_results:\n",
        "      return\n",
        "    print('{:s} won %{:2f} of matches'.format(self.player.my_token, ((self.round_scores > 0).sum() / self.round_scores.shape[0])))\n",
        "    np.save(self.file_name, self.round_data)\n",
        "    np.save('{:s}_y'.format(self.file_name), np.atleast_2d(self.round_scores).T)\n",
        "\n",
        "# adjust score data based on how long the match took (longer -> lower score)\n",
        "def score_curve(round_ct):\n",
        "  if round_ct <= 5:\n",
        "    return 1\n",
        "  return 1 - ((round_ct-5) / (MAX_ROUNDS-5))"
      ]
    },
    {
      "cell_type": "code",
      "source": [
        "class DataGen:\n",
        "  def __init__(self, x_fn='alak_x', o_fn='alax_o', verbose=False, x_pred_func=lambda x: np.full((x.shape[0],1),.5), o_pred_func=lambda x: np.full((x.shape[0],1),.5)):\n",
        "    self.alak_x = Alak('x', 'o', home_team=True, file_name=x_fn, verbose=verbose, pred_func=x_pred_func)\n",
        "    self.alak_o = Alak('o', 'x', home_team=False, file_name=o_fn, verbose=verbose, pred_func=o_pred_func)\n",
        "    self.verbose = verbose\n",
        "\n",
        "  def gen(self, reps):\n",
        "    for r in range(reps):\n",
        "      # if not self.verbose:\n",
        "      #   if r%500==0:\n",
        "      #     print()\n",
        "      #   if r%100==0:\n",
        "      #     print('rep #', r, end=', ')\n",
        "      # else:\n",
        "      #   print('rep #', r)\n",
        "      print('rep #', r)\n",
        "      self.play_to_bust(r%2==0)\n",
        "    print()\n",
        "    self.alak_x.dump()\n",
        "    self.alak_o.dump()\n",
        "\n",
        "  def play_to_bust(self, even):\n",
        "    alaks = [self.alak_x, self.alak_o] if even else [self.alak_o, self.alak_x]\n",
        "    alaks[0].reset()\n",
        "    alaks[1].reset()\n",
        "    i = 0\n",
        "    while True:\n",
        "      s = alaks[i%2].make_move()\n",
        "      i += 1\n",
        "      if len(s) > 14:\n",
        "        alaks[i%2].opps_move_s(s.split(\"\\n\")[1])\n",
        "        return\n",
        "      else:\n",
        "        alaks[i%2].opps_move_s(s)"
      ],
      "metadata": {
        "id": "dMZ6Kg5k5qwF"
      },
      "execution_count": null,
      "outputs": []
    },
    {
      "cell_type": "code",
      "source": [
        "g_full_random = DataGen()\n",
        "g_full_random.gen(1000)"
      ],
      "metadata": {
        "id": "jFPlqZ0f5_d8",
        "colab": {
          "base_uri": "https://localhost:8080/"
        },
        "outputId": "eb83ea56-a61e-41de-8685-e9fbf0c6e13d"
      },
      "execution_count": null,
      "outputs": [
        {
          "output_type": "stream",
          "name": "stdout",
          "text": [
            "\n",
            "rep # 0, rep # 100, rep # 200, rep # 300, rep # 400, \n",
            "rep # 500, rep # 600, rep # 700, rep # 800, rep # 900, x won %0.581559 of matches\n",
            "o won %0.349181 of matches\n"
          ]
        }
      ]
    },
    {
      "cell_type": "code",
      "source": [
        "learning_rate = 0.001\n",
        "layer_height = 32\n",
        "training_epochs = 64\n",
        "batch_size = 32"
      ],
      "metadata": {
        "id": "g6PWE3dAPm7N"
      },
      "execution_count": null,
      "outputs": []
    },
    {
      "cell_type": "code",
      "source": [
        "# X_stack = np.concatenate((np.load('alak_x.npy'), np.load('alak_o.npy')), axis=0, dtype=np.float32)\n",
        "# y_stack = np.concatenate((np.load('alak_x_y.npy'), np.load('alak_o_y.npy')), axis=0, dtype=np.float32)\n",
        "\n",
        "# X_stack = np.concatenate((np.load('smart_x.npy'), np.load('random_o.npy')), axis=0, dtype=np.float32)\n",
        "# y_stack = np.concatenate((np.load('smart_x_y.npy'), np.load('random_o_y.npy')), axis=0, dtype=np.float32)\n",
        "\n",
        "# X_stack = np.concatenate((np.load('duo_x.npy'), np.load('random_o.npy'), np.load('smart_x2.npy'), np.load('random_o2.npy')), axis=0, dtype=np.float32)\n",
        "# y_stack = np.concatenate((np.load('smart_x_y.npy'), np.load('random_o_y.npy'), np.load('smart_x2_y.npy'), np.load('random_o2_y.npy')), axis=0, dtype=np.float32)\n",
        "\n",
        "# X_stack = np.concatenate((np.load('duo_x.npy'), np.load('duo_o.npy')), axis=0, dtype=np.float32)\n",
        "# y_stack = np.concatenate((np.load('duo_x_y.npy'), np.load('duo_o_y.npy')), axis=0, dtype=np.float32)\n",
        "######################################\n",
        "# X_stack = np.concatenate((np.load('alak_x.npy'), np.load('alak_o.npy')), axis=0, dtype=np.float32)\n",
        "# y_stack = np.concatenate((np.load('alak_x_y.npy'), np.load('alak_o_y.npy')), axis=0, dtype=np.float32)\n",
        "\n",
        "X_stack = np.concatenate((np.load('random_x.npy'), np.load('smart_o.npy')), axis=0, dtype=np.float32)\n",
        "y_stack = np.concatenate((np.load('random_x_y.npy'), np.load('smart_o_y.npy')), axis=0, dtype=np.float32)\n"
      ],
      "metadata": {
        "id": "Z048etoZv33a"
      },
      "execution_count": null,
      "outputs": []
    },
    {
      "cell_type": "code",
      "source": [
        "brk = int(len(X_stack)*.7)\n",
        "X_train, y_train, X_test, y_test = X_stack[:brk], y_stack[:brk], X_stack[:brk], y_stack[:brk]\n",
        "\n",
        "train_ds = tf.data.Dataset.from_tensor_slices((X_train, y_train)).shuffle(buffer_size=1000).batch(batch_size)\n",
        "test_ds = tf.data.Dataset.from_tensor_slices((X_test, y_test)).batch(batch_size)"
      ],
      "metadata": {
        "id": "pULNPUbwFBND"
      },
      "execution_count": null,
      "outputs": []
    },
    {
      "cell_type": "code",
      "source": [
        "def create_model():\n",
        "    model = tf.keras.Sequential()\n",
        "    model.add(tf.keras.layers.Dense(layer_height, input_shape=[14], activation='relu'))\n",
        "    model.add(tf.keras.layers.Dense(layer_height, input_shape=[layer_height], activation='relu'))\n",
        "    model.add(tf.keras.layers.Dense(1, input_shape=[layer_height]))\n",
        "    model.compile(loss='mean_squared_error', optimizer=tf.keras.optimizers.Adam(learning_rate))\n",
        "    return model\n",
        "\n",
        "model = create_model()\n",
        "model.summary()"
      ],
      "metadata": {
        "colab": {
          "base_uri": "https://localhost:8080/"
        },
        "id": "62c7DoXpSPjt",
        "outputId": "484a3205-4106-477c-a972-c55b0176c0b9"
      },
      "execution_count": null,
      "outputs": [
        {
          "output_type": "stream",
          "name": "stdout",
          "text": [
            "Model: \"sequential_1\"\n",
            "_________________________________________________________________\n",
            " Layer (type)                Output Shape              Param #   \n",
            "=================================================================\n",
            " dense (Dense)               (None, 32)                480       \n",
            "                                                                 \n",
            " dense_1 (Dense)             (None, 32)                1056      \n",
            "                                                                 \n",
            " dense_2 (Dense)             (None, 1)                 33        \n",
            "                                                                 \n",
            "=================================================================\n",
            "Total params: 1,569\n",
            "Trainable params: 1,569\n",
            "Non-trainable params: 0\n",
            "_________________________________________________________________\n"
          ]
        }
      ]
    },
    {
      "cell_type": "code",
      "source": [
        "model.load_weights('drive/MyDrive/alak/weights')\n",
        "# model.load_weights('final_o')"
      ],
      "metadata": {
        "id": "ZTuOHzRKLaWK"
      },
      "execution_count": null,
      "outputs": []
    },
    {
      "cell_type": "code",
      "source": [
        "history = model.fit(X_train, y_train, epochs=training_epochs)"
      ],
      "metadata": {
        "id": "95GTm-gvVpwS"
      },
      "execution_count": null,
      "outputs": []
    },
    {
      "cell_type": "code",
      "source": [
        "model.save_weights('final_x')"
      ],
      "metadata": {
        "id": "OMGBHES0UOCV"
      },
      "execution_count": null,
      "outputs": []
    },
    {
      "cell_type": "code",
      "source": [
        "y_pred = model.predict(X_test[0:1])\n",
        "print(y_pred[0,0])"
      ],
      "metadata": {
        "colab": {
          "base_uri": "https://localhost:8080/"
        },
        "id": "jbekYAryXajR",
        "outputId": "0331d5cd-3c65-4db5-fd75-24dbb0d0fd6f"
      },
      "execution_count": null,
      "outputs": [
        {
          "output_type": "stream",
          "name": "stdout",
          "text": [
            "1/1 [==============================] - 0s 78ms/step\n",
            "0.47229603\n"
          ]
        }
      ]
    },
    {
      "cell_type": "code",
      "source": [
        "pred_dif = np.abs(y_pred-y_test)\n",
        "print(pred_dif)"
      ],
      "metadata": {
        "colab": {
          "base_uri": "https://localhost:8080/"
        },
        "id": "OlL1aPtBYGBz",
        "outputId": "0515eb02-094e-4d8c-ffb3-d9b20d653027"
      },
      "execution_count": null,
      "outputs": [
        {
          "output_type": "stream",
          "name": "stdout",
          "text": [
            "[[0.34020397]\n",
            " [0.34020397]\n",
            " [0.34020397]\n",
            " ...\n",
            " [0.527704  ]\n",
            " [0.527704  ]\n",
            " [0.527704  ]]\n"
          ]
        }
      ]
    },
    {
      "cell_type": "code",
      "source": [
        "# wr alak_x alak_o -> smart_x random_o :: x .88 o .12\n",
        "# wr smart_x random_o -> smart_x random_o :: x .71 o .29\n",
        "# wr smart_x random_o stack -> smart_x random_o :: x .87 o .13\n",
        "# wr smart_x random_o stack -> duo :: x .75 o .25\n",
        "#####################\n",
        "# wr alak_x alak_o -> random_x smart_o :: x .51 o .49\n",
        "# wr random_x smart_o -> random_x2 smart_o2 :: x .51 o .49"
      ],
      "metadata": {
        "id": "N_eGNQfIwP9W"
      },
      "execution_count": null,
      "outputs": []
    },
    {
      "cell_type": "code",
      "source": [
        "g_nn_training = DataGen(x_fn='random_x2', o_fn='smart_o2', o_pred_func=lambda x: model.predict(x))\n",
        "g_nn_training.gen(1000)"
      ],
      "metadata": {
        "id": "6C4YSTDGaxgL"
      },
      "execution_count": null,
      "outputs": []
    },
    {
      "cell_type": "code",
      "source": [
        "g  = Alak('x', 'o', verbose=True, pred_func=lambda x: model.predict(x))\n",
        "# g.board_s = '_xxxx_x_o_oooo'\n",
        "g.make_move()\n",
        "g.make_move()\n",
        "print(g.board_s)"
      ],
      "metadata": {
        "colab": {
          "base_uri": "https://localhost:8080/"
        },
        "id": "evxswrsNgXOa",
        "outputId": "7abc1210-071d-4953-cf34-157af1f405ef"
      },
      "execution_count": null,
      "outputs": [
        {
          "output_type": "stream",
          "name": "stdout",
          "text": [
            "1/1 [==============================] - 0s 23ms/step\n",
            "x round 0  :: move [ 1 to 0 ]\n",
            "  _xxxx_x_o_oooo  ->  x_xxx_x_o_oooo\n",
            "\n",
            "x_xxx_x_o_oooo\n"
          ]
        }
      ]
    }
  ]
}